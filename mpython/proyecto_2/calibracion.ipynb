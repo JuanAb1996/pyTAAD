{
 "cells": [
  {
   "cell_type": "code",
   "execution_count": 2,
   "metadata": {},
   "outputs": [
    {
     "data": {
      "text/plain": [
       "\"for i in range(len(datos2)):\\n    lst1 = datos2[i].split(',')\\n    lst2.append(lst1)\\nfor i in range(len(lst2)-1):\\n    v = map(float,lst2[i])\\n    b = list(v)\\n    lst3.append(b)\\ndf = pd.DataFrame(lst3)\\nx = df[0].mean()\\ny = df[1].mean()\\nz = df[2].mean()\""
      ]
     },
     "execution_count": 2,
     "metadata": {},
     "output_type": "execute_result"
    }
   ],
   "source": [
    "import pandas as pd\n",
    "datos = open(\"prueba2.csv\", 'r')\n",
    "datos  = datos.read()\n",
    "datos2 = datos.split('|')\n",
    "lst1 = []\n",
    "lst2= []\n",
    "lst3 = []\n",
    "'''for i in range(len(datos2)):\n",
    "    lst1 = datos2[i].split(',')\n",
    "    lst2.append(lst1)\n",
    "for i in range(len(lst2)-1):\n",
    "    v = map(float,lst2[i])\n",
    "    b = list(v)\n",
    "    lst3.append(b)\n",
    "df = pd.DataFrame(lst3)\n",
    "x = df[0].mean()\n",
    "y = df[1].mean()\n",
    "z = df[2].mean()'''"
   ]
  },
  {
   "cell_type": "code",
   "execution_count": 3,
   "metadata": {},
   "outputs": [],
   "source": [
    "df = pd.read_csv('prueba2.csv',header=None)\n",
    "\n",
    "x = df[0].mean()\n",
    "y = df[1].mean()\n",
    "z = df[2].mean()"
   ]
  },
  {
   "cell_type": "code",
   "execution_count": 6,
   "metadata": {},
   "outputs": [
    {
     "name": "stdout",
     "output_type": "stream",
     "text": [
      "-0.04262841856999999 0.02868041946 1.009896361\n"
     ]
    }
   ],
   "source": [
    "print(x,y,z)"
   ]
  },
  {
   "cell_type": "code",
   "execution_count": null,
   "metadata": {},
   "outputs": [],
   "source": []
  }
 ],
 "metadata": {
  "kernelspec": {
   "display_name": "Python 3",
   "language": "python",
   "name": "python3"
  },
  "language_info": {
   "codemirror_mode": {
    "name": "ipython",
    "version": 3
   },
   "file_extension": ".py",
   "mimetype": "text/x-python",
   "name": "python",
   "nbconvert_exporter": "python",
   "pygments_lexer": "ipython3",
   "version": "3.6.6"
  }
 },
 "nbformat": 4,
 "nbformat_minor": 2
}
